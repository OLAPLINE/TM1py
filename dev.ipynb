{
 "cells": [
  {
   "cell_type": "code",
   "execution_count": 1,
   "metadata": {},
   "outputs": [
    {
     "data": {
      "text/plain": [
       "<Response [200]>"
      ]
     },
     "execution_count": 1,
     "metadata": {},
     "output_type": "execute_result"
    }
   ],
   "source": [
    "from TM1py import TM1Service, Rules\n",
    "\n",
    "rules = '''\n",
    "#testando..\n",
    "#dois\n",
    "#FOI!\n",
    "'''\n",
    "with TM1Service(address='localhost', port=15000, user='admin', password='2509', ssl=True) as tm1:\n",
    "    re = tm1.cubes.update_or_create_rules('par_quota', Rules(rules))\n",
    "    # re = tm1.cubes.update_or_create_rules('afff', 1)\n",
    "    \n",
    "re"
   ]
  },
  {
   "cell_type": "code",
   "execution_count": null,
   "metadata": {},
   "outputs": [],
   "source": [
    "from TM1py import TM1Service, Rules\n",
    "\n",
    "re = Rules('#Teste')\n",
    "\n",
    "print(type(Rules('#Teste')))\n",
    "print({\"Rules\": re})"
   ]
  },
  {
   "cell_type": "code",
   "execution_count": 2,
   "metadata": {},
   "outputs": [
    {
     "name": "stdout",
     "output_type": "stream",
     "text": [
      "{'Rules': 'Teste'}\n"
     ]
    }
   ],
   "source": [
    "from TM1py import TM1Service, Rules\n",
    "\n",
    "re = Rules('Teste')\n",
    "\n",
    "print(re.to_json)\n"
   ]
  }
 ],
 "metadata": {
  "kernelspec": {
   "display_name": ".venv",
   "language": "python",
   "name": "python3"
  },
  "language_info": {
   "codemirror_mode": {
    "name": "ipython",
    "version": 3
   },
   "file_extension": ".py",
   "mimetype": "text/x-python",
   "name": "python",
   "nbconvert_exporter": "python",
   "pygments_lexer": "ipython3",
   "version": "3.12.3"
  }
 },
 "nbformat": 4,
 "nbformat_minor": 2
}
