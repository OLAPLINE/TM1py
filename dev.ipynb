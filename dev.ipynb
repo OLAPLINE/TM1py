{
 "cells": [
  {
   "cell_type": "code",
   "execution_count": 1,
   "metadata": {},
   "outputs": [
    {
     "data": {
      "text/plain": [
       "<Response [200]>"
      ]
     },
     "execution_count": 1,
     "metadata": {},
     "output_type": "execute_result"
    }
   ],
   "source": [
    "from TM1py import TM1Service, Rules\n",
    "\n",
    "rules = '''\n",
    "#testando..\n",
    "#dois\n",
    "#FOI!\n",
    "'''\n",
    "with TM1Service(address='localhost', port=15000, user='admin', password='2509', ssl=True) as tm1:\n",
    "    re = tm1.cubes.update_or_create_rules('par_quota', Rules(rules))\n",
    "    # re = tm1.cubes.update_or_create_rules('afff', 1)\n",
    "    \n",
    "re"
   ]
  },
  {
   "cell_type": "code",
   "execution_count": 4,
   "metadata": {},
   "outputs": [
    {
     "data": {
      "text/plain": [
       "\"['quota1','name'] = S: TIMST(45292, '\\\\Y\\\\m\\\\d');\""
      ]
     },
     "execution_count": 4,
     "metadata": {},
     "output_type": "execute_result"
    }
   ],
   "source": [
    "from TM1py import TM1Service, Rules\n",
    "\n",
    "rules = '''\n",
    "#testando..\n",
    "#dois\n",
    "#FOI!\n",
    "'''\n",
    "with TM1Service(address='localhost', port=15000, user='admin', password='2509', ssl=True) as tm1:\n",
    "    re = tm1.cubes.get(cube_name='test').rules.text\n",
    "    \n",
    "re"
   ]
  },
  {
   "cell_type": "code",
   "execution_count": 5,
   "metadata": {},
   "outputs": [
    {
     "ename": "ValueError",
     "evalue": "invalid literal for int() with base 10: 'a'",
     "output_type": "error",
     "traceback": [
      "\u001b[1;31m---------------------------------------------------------------------------\u001b[0m",
      "\u001b[1;31mValueError\u001b[0m                                Traceback (most recent call last)",
      "Cell \u001b[1;32mIn[5], line 1\u001b[0m\n\u001b[1;32m----> 1\u001b[0m \u001b[38;5;28;43mint\u001b[39;49m\u001b[43m(\u001b[49m\u001b[38;5;124;43m'\u001b[39;49m\u001b[38;5;124;43ma\u001b[39;49m\u001b[38;5;124;43m'\u001b[39;49m\u001b[43m)\u001b[49m\n",
      "\u001b[1;31mValueError\u001b[0m: invalid literal for int() with base 10: 'a'"
     ]
    }
   ],
   "source": [
    "int('a')"
   ]
  }
 ],
 "metadata": {
  "kernelspec": {
   "display_name": ".venv",
   "language": "python",
   "name": "python3"
  },
  "language_info": {
   "codemirror_mode": {
    "name": "ipython",
    "version": 3
   },
   "file_extension": ".py",
   "mimetype": "text/x-python",
   "name": "python",
   "nbconvert_exporter": "python",
   "pygments_lexer": "ipython3",
   "version": "3.12.2"
  }
 },
 "nbformat": 4,
 "nbformat_minor": 2
}
